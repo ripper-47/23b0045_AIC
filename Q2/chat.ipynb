{
 "cells": [
  {
   "cell_type": "markdown",
   "metadata": {},
   "source": [
    "# RAG ChatBot "
   ]
  },
  {
   "cell_type": "markdown",
   "metadata": {},
   "source": [
    "## Importing necessary libraries"
   ]
  },
  {
   "cell_type": "code",
   "execution_count": 1,
   "metadata": {},
   "outputs": [],
   "source": [
    "\n",
    "import os\n",
    "import textwrap\n",
    "from pathlib import Path\n",
    "\n",
    "from IPython.display import Markdown\n",
    "from langchain.chains import RetrievalQA\n",
    "from langchain.prompts import PromptTemplate\n",
    "from langchain.retrievers import ContextualCompressionRetriever\n",
    "from langchain.retrievers.document_compressors import FlashrankRerank\n",
    "from langchain.text_splitter import RecursiveCharacterTextSplitter\n",
    "from langchain.vectorstores import Qdrant\n",
    "from langchain_community.document_loaders import UnstructuredMarkdownLoader\n",
    "from langchain_community.embeddings.fastembed import FastEmbedEmbeddings\n",
    "from langchain_core.prompts import ChatPromptTemplate\n",
    "from langchain_groq import ChatGroq\n",
    "from llama_parse import LlamaParse\n",
    "\n",
    "\n",
    "def print_response(response):\n",
    "    response_txt = response[\"result\"]\n",
    "    for chunk in response_txt.split(\"\\n\"):\n",
    "        if not chunk:\n",
    "            print()\n",
    "            continue\n",
    "        print(\"\\n\".join(textwrap.wrap(chunk, 100, break_long_words=False)))"
   ]
  },
  {
   "cell_type": "markdown",
   "metadata": {},
   "source": [
    "## Parsing the pdf document"
   ]
  },
  {
   "cell_type": "code",
   "execution_count": 2,
   "metadata": {},
   "outputs": [
    {
     "name": "stdout",
     "output_type": "stream",
     "text": [
      "Started parsing the file under job_id bd547311-b4f0-44b7-8f89-a9369ce1da5e\n"
     ]
    }
   ],
   "source": [
    "#instruction to fine-tune the parser\n",
    "instruction = \"\"\"The provided document is Meta First Quarter 2024 Results.\n",
    "This form provides detailed financial information about the company's performance for a specific quarter.\n",
    "It includes unaudited financial statements, management discussion and analysis, and other relevant disclosures required by the SEC.\n",
    "It contains many tables.\n",
    "Try to be precise while answering the questions\"\"\"     \n",
    "\n",
    "#setting up LLamaParse to parse through the pdf document\n",
    "parser = LlamaParse(                                     \n",
    "    api_key=\"<your_api_key>\", #Llamacloud api ley\n",
    "    result_type=\"markdown\",   #convert pdf to markdown\n",
    "    parsing_instruction=instruction,\n",
    "    max_timeout=5000,\n",
    ")\n",
    "\n",
    "llama_parse_documents = await parser.aload_data(\"data/meta-earnings.pdf\")"
   ]
  },
  {
   "cell_type": "code",
   "execution_count": 3,
   "metadata": {},
   "outputs": [
    {
     "data": {
      "text/markdown": [
       "#\n",
       "\n",
       "# Meta First Quarter 2024 Results\n",
       "\n",
       "# Meta Reports First Quarter 2024 Results\n",
       "\n",
       "MENLO PARK, Calif. – April 24, 2024 – Meta Platforms, Inc. (Nasdaq: META) today reported financial results for the quarter ended March 31, 2024.\n",
       "\n",
       "\"It's been a good start to the year,\" said Mark Zuckerberg, Meta founder and CEO. \"The new version of Meta AI with Llama 3 is another step towards building the world's leading AI. We're seeing healthy growth across our apps and we continue making steady progress building the metaverse as well.\"\n",
       "\n",
       "# First Quarter 2024 Financial Highlights\n",
       "\n",
       "| |Three Months Ended March 31, 2024|Three Months Ended March 31, 2023|% Change|\n",
       "|---|---|---|---|\n",
       "|Revenue|$36,455|$28,645|27%|\n",
       "|Costs and expenses|$22,637|$21,418|6%|\n",
       "|Income from operations|$13,818|$7,227|91%|\n",
       "|Operating margin|38%|25%| |\n",
       "|Provision for income taxes|$1,814|$1,598|14%|\n",
       "|Effective tax rate|13%|22%| |\n",
       "|Net income|$12,369|$5,709|117%|\n",
       "|Diluted earnings per share (EPS)|$4.71|$2.20|114%|\n",
       "\n",
       "# First Quarter 2024 Operational and Other Financial Highlights\n",
       "\n",
       "- Family daily active people (DAP) – DAP was 3.24 billion on average for March 2024, an increase of 7% year-over-year.\n",
       "- Ad impressions – Ad impressions delivered across our Family of Apps increased by 20% year-over-year.\n",
       "- Average price per ad – Average price per ad increased by 6% year-over-year.\n",
       "- Revenue – Total revenue and revenue on a constant currency basis were $36.46 billion and $36.35 billion, respectively, both of which increased by 27% year-over-year.\n",
       "- Costs and expenses – Total costs and expenses were $22.64 billion, an increase of 6% year-over-year.\n",
       "- Capital expenditures – Capital expenditures, including principal payments on finance leases, were $6.72 billion.\n",
       "- Capital return program – Share repurchases were $14.64 billion of our Class A common stock and dividends payments were $1.27 billion.\n",
       "- Cash, cash equivalents, and marketable securities – Cash, cash equivalents, and marketable securities were $58.12 billion as of March 31, 2024. Free cash flow was $12.53 billion.\n",
       "- Headcount – Headcount was 69,329 as of March 31, 2024, a decrease of 10% year-over-year.\n",
       "---\n",
       "#\n",
       "\n",
       "# Meta First Quarter 2024 Results\n",
       "\n",
       "# CFO Outlook Commentary\n",
       "\n",
       "We expect second quarter 2024 total revenue to be in the range of $36.5-39 billion. Our guidance assumes foreign currency is a 1% headwind to year-over-year total revenue growth, based on current exchange rates.\n",
       "\n",
       "We expect full-year 2024 total expenses to be in the range of $96-99 billion, updated from our prior outlook of $94-99 billion due to higher infrastructure and legal costs. For Reality Labs, we continue to expect operating losses to increase meaningfully year-over-year due to our ongoing product development efforts and our investments to further scale our ecosystem.\n",
       "\n",
       "We anticipate our full-year 2024 capital expenditures will be in the range of $35-40 billion, increased from our prior range of $30-37 billion as we continue to accelerate our infrastructure investments to support our artificial intelligence (AI) roadmap. While we are not providing guidance for years beyond 2024, we expect capital expenditures will continue to increase next year as we invest aggressively to support our ambitious AI research and product development efforts.\n",
       "\n",
       "Absent any changes to our tax landscape, we expect our full-year 2024 tax rate to be in the mid-teens.\n",
       "\n",
       "In addition, we continue to monitor an active regulatory landscape, including the increasing legal and regulatory headwinds in the EU and the U.S. that could significantly impact our business and our financial results.\n",
       "\n",
       "Q1 was a good start to the year. We're seeing strong momentum within our Family of Apps and are making important progress on our longer-term AI and Reality Labs initiatives that have the potential to transform the way people interact with our services over the coming years.\n",
       "---\n",
       "#\n",
       "\n",
       "# Meta First Quarter 2024 Results\n",
       "\n",
       "# Webcast and Conference Call Information\n",
       "\n",
       "Meta will host a conference call to discuss the results at 2:00 p.m. PT / 5:00 p.m. ET today. The live webcast of Meta's earnings conference call can "
      ],
      "text/plain": [
       "<IPython.core.display.Markdown object>"
      ]
     },
     "execution_count": 3,
     "metadata": {},
     "output_type": "execute_result"
    }
   ],
   "source": [
    "parsed_doc = llama_parse_documents[0]\n",
    "Markdown(parsed_doc.text[0:4096])"
   ]
  },
  {
   "cell_type": "markdown",
   "metadata": {},
   "source": [
    "## Converting the "
   ]
  },
  {
   "cell_type": "code",
   "execution_count": 7,
   "metadata": {},
   "outputs": [],
   "source": [
    "#create a markdown file to store parsed_doc\n",
    "document_path = Path(\"data/parsed_document.md\")\n",
    "with document_path.open(\"a\") as f:\n",
    "    f.write(parsed_doc.text)"
   ]
  },
  {
   "cell_type": "code",
   "execution_count": 10,
   "metadata": {},
   "outputs": [],
   "source": [
    "#Load the markdown file\n",
    "loader = UnstructuredMarkdownLoader(document_path)\n",
    "loaded_documents = loader.load()\n"
   ]
  },
  {
   "cell_type": "code",
   "execution_count": 11,
   "metadata": {},
   "outputs": [
    {
     "data": {
      "text/plain": [
       "26"
      ]
     },
     "execution_count": 11,
     "metadata": {},
     "output_type": "execute_result"
    }
   ],
   "source": [
    "#split the data into smaller 'chunks' for efficient processing\n",
    "text_splitter = RecursiveCharacterTextSplitter(chunk_size=2048, chunk_overlap=128)\n",
    "docs = text_splitter.split_documents(loaded_documents)\n",
    "len(docs)\n",
    "     "
   ]
  },
  {
   "cell_type": "code",
   "execution_count": 12,
   "metadata": {},
   "outputs": [
    {
     "name": "stdout",
     "output_type": "stream",
     "text": [
      "Meta First Quarter 2024 Results\n",
      "\n",
      "Meta Reports First Quarter 2024 Results\n",
      "\n",
      "MENLO PARK, Calif. – April 24, 2024 – Meta Platforms, Inc. (Nasdaq: META) today reported financial results for the quarter ended March 31, 2024.\n",
      "\n",
      "\"It's been a good start to the year,\" said Mark Zuckerberg, Meta founder and CEO. \"The new version of Meta AI with Llama 3 is another step towards building the world's leading AI. We're seeing healthy growth across our apps and we continue making steady progress building the metaverse as well.\"\n",
      "\n",
      "First Quarter 2024 Financial Highlights\n",
      "\n",
      "Three Months Ended March 31, 2024 Three Months Ended March 31, 2023 % Change Revenue $36,455 million $28,645 million 27% Costs and expenses $22,637 million $21,418 million 6% Income from operations $13,818 million $7,227 million 91% Operating margin 38% 25% Provision for income taxes $1,814 million $1,598 million 14% Effective tax rate 13% 22% Net income $12,369 million $5,709 million 117% Diluted earnings per share (EPS) $4.71 $2.20 114%\n",
      "\n",
      "First Quarter 2024 Operational and Other Financial Highlights\n",
      "\n",
      "Family daily active people (DAP) – DAP was 3.24 billion on average for March 2024, an increase of 7% year-over-year.\n",
      "\n",
      "Ad impressions – Ad impressions delivered across our Family of Apps increased by 20% year-over-year.\n",
      "\n",
      "Average price per ad – Average price per ad increased by 6% year-over-year.\n",
      "\n",
      "Revenue – Total revenue and revenue on a constant currency basis were $36.46 billion and $36.35 billion, respectively, both of which increased by 27% year-over-year.\n",
      "\n",
      "Costs and expenses – Total costs and expenses were $22.64 billion, an increase of 6% year-over-year.\n",
      "\n",
      "Capital expenditures – Capital expenditures, including principal payments on finance leases, were $6.72 billion.\n",
      "\n",
      "Capital return program – Share repurchases were $14.64 billion of our Class A common stock and dividends payments were $1.27 billion.\n"
     ]
    }
   ],
   "source": [
    "print(docs[0].page_content)"
   ]
  },
  {
   "cell_type": "code",
   "execution_count": 13,
   "metadata": {},
   "outputs": [
    {
     "data": {
      "application/vnd.jupyter.widget-view+json": {
       "model_id": "0609393ace044ff0a547f5a3da7f0e06",
       "version_major": 2,
       "version_minor": 0
      },
      "text/plain": [
       "Fetching 5 files:   0%|          | 0/5 [00:00<?, ?it/s]"
      ]
     },
     "metadata": {},
     "output_type": "display_data"
    }
   ],
   "source": [
    "#get the embeddings\n",
    "embeddings = FastEmbedEmbeddings(model_name=\"BAAI/bge-base-en-v1.5\")    "
   ]
  },
  {
   "cell_type": "code",
   "execution_count": 15,
   "metadata": {},
   "outputs": [],
   "source": [
    "#Use the Qdrant vector similarity search engine\n",
    "qdrant = Qdrant.from_documents(\n",
    "    docs,\n",
    "    embeddings,\n",
    "    path=\"./db\",\n",
    "    collection_name=\"document_embeddings\",\n",
    ")\n",
    "     "
   ]
  },
  {
   "cell_type": "code",
   "execution_count": 18,
   "metadata": {},
   "outputs": [],
   "source": [
    "\n",
    "query = \"What is the most important innovation from Meta?\"\n",
    "similar_docs = qdrant.similarity_search_with_score(query)"
   ]
  },
  {
   "cell_type": "code",
   "execution_count": 19,
   "metadata": {},
   "outputs": [
    {
     "name": "stdout",
     "output_type": "stream",
     "text": [
      "text: About Meta\n",
      "\n",
      "Meta builds technologies that help people connect, find communities, and grow businesses. When Facebook launched in 2004, it changed the way people connect. Apps like Messenger, Instagram, and WhatsApp further empowered billions around the worl\n",
      "\n",
      "score: 0.6206513248343075\n",
      "--------------------------------------------------------------------------------\n",
      "\n",
      "text: About Meta\n",
      "\n",
      "Meta builds technologies that help people connect, find communities, and grow businesses. When Facebook launched in 2004, it changed the way people connect. Apps like Messenger, Instagram, and WhatsApp further empowered billions around the worl\n",
      "\n",
      "score: 0.6206513248343075\n",
      "--------------------------------------------------------------------------------\n",
      "\n",
      "text: Meta First Quarter 2024 Results\n",
      "\n",
      "Meta Reports First Quarter 2024 Results\n",
      "\n",
      "MENLO PARK, Calif. – April 24, 2024 – Meta Platforms, Inc. (Nasdaq: META) today reported financial results for the quarter ended March 31, 2024.\n",
      "\n",
      "\"It's been a good start to the year,\n",
      "\n",
      "score: 0.6101043766306722\n",
      "--------------------------------------------------------------------------------\n",
      "\n",
      "text: Meta First Quarter 2024 Results\n",
      "\n",
      "Meta Reports First Quarter 2024 Results\n",
      "\n",
      "MENLO PARK, Calif. – April 24, 2024 – Meta Platforms, Inc. (Nasdaq: META) today reported financial results for the quarter ended March 31, 2024.\n",
      "\n",
      "\"It's been a good start to the year,\n",
      "\n",
      "score: 0.610104376630672\n",
      "--------------------------------------------------------------------------------\n",
      "\n"
     ]
    }
   ],
   "source": [
    "for doc, score in similar_docs:\n",
    "    print(f\"text: {doc.page_content[:256]}\\n\")\n",
    "    print(f\"score: {score}\")\n",
    "    print(\"-\" * 80)\n",
    "    print()"
   ]
  },
  {
   "cell_type": "code",
   "execution_count": 20,
   "metadata": {},
   "outputs": [
    {
     "name": "stdout",
     "output_type": "stream",
     "text": [
      "CPU times: user 240 ms, sys: 7.9 ms, total: 248 ms\n",
      "Wall time: 75.6 ms\n"
     ]
    }
   ],
   "source": [
    "\n",
    "%%time\n",
    "retriever = qdrant.as_retriever(search_kwargs={\"k\": 5})\n",
    "retrieved_docs = retriever.invoke(query)"
   ]
  },
  {
   "cell_type": "code",
   "execution_count": 21,
   "metadata": {},
   "outputs": [
    {
     "name": "stdout",
     "output_type": "stream",
     "text": [
      "id: 5fef76b0d6ea45c482545ff753e15d53\n",
      "\n",
      "text: About Meta\n",
      "\n",
      "Meta builds technologies that help people connect, find communities, and grow businesses. When Facebook launched in 2004, it changed the way people connect. Apps like Messenger, Instagram, and WhatsApp further empowered billions around the worl\n",
      "\n",
      "--------------------------------------------------------------------------------\n",
      "\n",
      "id: e909fc73499f427c87ba9ef5b0fe2460\n",
      "\n",
      "text: About Meta\n",
      "\n",
      "Meta builds technologies that help people connect, find communities, and grow businesses. When Facebook launched in 2004, it changed the way people connect. Apps like Messenger, Instagram, and WhatsApp further empowered billions around the worl\n",
      "\n",
      "--------------------------------------------------------------------------------\n",
      "\n",
      "id: 66ca6472da7544b0aa885b45d097dc6c\n",
      "\n",
      "text: Meta First Quarter 2024 Results\n",
      "\n",
      "Meta Reports First Quarter 2024 Results\n",
      "\n",
      "MENLO PARK, Calif. – April 24, 2024 – Meta Platforms, Inc. (Nasdaq: META) today reported financial results for the quarter ended March 31, 2024.\n",
      "\n",
      "\"It's been a good start to the year,\n",
      "\n",
      "--------------------------------------------------------------------------------\n",
      "\n",
      "id: 1686512edbba494593fa570cc0f98c17\n",
      "\n",
      "text: Meta First Quarter 2024 Results\n",
      "\n",
      "Meta Reports First Quarter 2024 Results\n",
      "\n",
      "MENLO PARK, Calif. – April 24, 2024 – Meta Platforms, Inc. (Nasdaq: META) today reported financial results for the quarter ended March 31, 2024.\n",
      "\n",
      "\"It's been a good start to the year,\n",
      "\n",
      "--------------------------------------------------------------------------------\n",
      "\n",
      "id: 7fe0585116624050abe0f05f4d17935f\n",
      "\n",
      "text: Meta First Quarter 2024 Results\n",
      "\n",
      "Meta Reports First Quarter 2024 Results\n",
      "\n",
      "MENLO PARK, Calif. – April 24, 2024 – Meta Platforms, Inc. (Nasdaq: META) today reported financial results for the quarter ended March 31, 2024.\n",
      "\n",
      "\"It's been a good start to the year,\n",
      "\n",
      "--------------------------------------------------------------------------------\n",
      "\n"
     ]
    }
   ],
   "source": [
    "for doc in retrieved_docs:\n",
    "    print(f\"id: {doc.metadata['_id']}\\n\")\n",
    "    print(f\"text: {doc.page_content[:256]}\\n\")\n",
    "    print(\"-\" * 80)\n",
    "    print()"
   ]
  },
  {
   "cell_type": "code",
   "execution_count": 14,
   "metadata": {},
   "outputs": [],
   "source": [
    "compressor = FlashrankRerank(model=\"ms-marco-MiniLM-L-12-v2\")\n",
    "compression_retriever = ContextualCompressionRetriever(\n",
    "    base_compressor=compressor, base_retriever=retriever\n",
    ")"
   ]
  },
  {
   "cell_type": "code",
   "execution_count": 15,
   "metadata": {},
   "outputs": [
    {
     "name": "stdout",
     "output_type": "stream",
     "text": [
      "CPU times: user 3.89 s, sys: 236 ms, total: 4.13 s\n",
      "Wall time: 981 ms\n"
     ]
    },
    {
     "data": {
      "text/plain": [
       "3"
      ]
     },
     "execution_count": 15,
     "metadata": {},
     "output_type": "execute_result"
    }
   ],
   "source": [
    "%%time\n",
    "reranked_docs = compression_retriever.invoke(query)\n",
    "len(reranked_docs)"
   ]
  },
  {
   "cell_type": "code",
   "execution_count": 16,
   "metadata": {},
   "outputs": [
    {
     "name": "stdout",
     "output_type": "stream",
     "text": [
      "id: 5fef76b0d6ea45c482545ff753e15d53\n",
      "\n",
      "text: About Meta\n",
      "\n",
      "Meta builds technologies that help people connect, find communities, and grow businesses. When Facebook launched in 2004, it changed the way people connect. Apps like Messenger, Instagram, and WhatsApp further empowered billions around the worl\n",
      "\n",
      "score: 0.5479341745376587\n",
      "--------------------------------------------------------------------------------\n",
      "\n",
      "id: 7fe0585116624050abe0f05f4d17935f\n",
      "\n",
      "text: Meta First Quarter 2024 Results\n",
      "\n",
      "Meta Reports First Quarter 2024 Results\n",
      "\n",
      "MENLO PARK, Calif. – April 24, 2024 – Meta Platforms, Inc. (Nasdaq: META) today reported financial results for the quarter ended March 31, 2024.\n",
      "\n",
      "\"It's been a good start to the year,\n",
      "\n",
      "score: 0.01797989383339882\n",
      "--------------------------------------------------------------------------------\n",
      "\n",
      "id: 1686512edbba494593fa570cc0f98c17\n",
      "\n",
      "text: Meta First Quarter 2024 Results\n",
      "\n",
      "Meta Reports First Quarter 2024 Results\n",
      "\n",
      "MENLO PARK, Calif. – April 24, 2024 – Meta Platforms, Inc. (Nasdaq: META) today reported financial results for the quarter ended March 31, 2024.\n",
      "\n",
      "\"It's been a good start to the year,\n",
      "\n",
      "score: 0.01797989383339882\n",
      "--------------------------------------------------------------------------------\n",
      "\n"
     ]
    }
   ],
   "source": [
    "for doc in reranked_docs:\n",
    "    print(f\"id: {doc.metadata['_id']}\\n\")\n",
    "    print(f\"text: {doc.page_content[:256]}\\n\")\n",
    "    print(f\"score: {doc.metadata['relevance_score']}\")\n",
    "    print(\"-\" * 80)\n",
    "    print()"
   ]
  },
  {
   "cell_type": "code",
   "execution_count": 22,
   "metadata": {},
   "outputs": [],
   "source": [
    "llm = ChatGroq(temperature=0, model_name=\"llama3-70b-8192\",groq_api_key=\"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\")"
   ]
  },
  {
   "cell_type": "code",
   "execution_count": 23,
   "metadata": {},
   "outputs": [],
   "source": [
    "prompt_template = \"\"\"\n",
    "Use the following pieces of information to answer the user's question.\n",
    "If you don't know the answer, just say that you don't know, don't try to make up an answer.\n",
    "\n",
    "Context: {context}\n",
    "Question: {question}\n",
    "\n",
    "Answer the question and provide additional helpful information,\n",
    "based on the pieces of information, if applicable. Be succinct.\n",
    "\n",
    "Responses should be properly formatted to be easily read.\n",
    "\"\"\"\n",
    "\n",
    "prompt = PromptTemplate(\n",
    "    template=prompt_template, input_variables=[\"context\", \"question\"]\n",
    ")"
   ]
  },
  {
   "cell_type": "code",
   "execution_count": 24,
   "metadata": {},
   "outputs": [],
   "source": [
    "qa = RetrievalQA.from_chain_type(\n",
    "    llm=llm,\n",
    "    chain_type=\"stuff\",\n",
    "    retriever=compression_retriever,\n",
    "    return_source_documents=True,\n",
    "    chain_type_kwargs={\"prompt\": prompt, \"verbose\": True},\n",
    ")"
   ]
  },
  {
   "cell_type": "code",
   "execution_count": 27,
   "metadata": {},
   "outputs": [
    {
     "name": "stdout",
     "output_type": "stream",
     "text": [
      "\n",
      "\n",
      "\u001b[1m> Entering new StuffDocumentsChain chain...\u001b[0m\n",
      "\n",
      "\n",
      "\u001b[1m> Entering new LLMChain chain...\u001b[0m\n",
      "Prompt after formatting:\n",
      "\u001b[32;1m\u001b[1;3m\n",
      "Use the following pieces of information to answer the user's question.\n",
      "If you don't know the answer, just say that you don't know, don't try to make up an answer.\n",
      "\n",
      "Context: About Meta\n",
      "\n",
      "Meta builds technologies that help people connect, find communities, and grow businesses. When Facebook launched in 2004, it changed the way people connect. Apps like Messenger, Instagram, and WhatsApp further empowered billions around the world. Now, Meta is moving beyond 2D screens toward immersive experiences like augmented and virtual reality to help build the next evolution in social technology.\n",
      "\n",
      "Contacts\n",
      "\n",
      "Investors:\n",
      "\n",
      "Kenneth Dorell\n",
      "\n",
      "investor@meta.com / investor.fb.com\n",
      "\n",
      "Press:\n",
      "\n",
      "Ryan Moore\n",
      "\n",
      "press@meta.com / about.fb.com/news/\n",
      "\n",
      "Meta First Quarter 2024 Results\n",
      "\n",
      "Meta First Quarter 2024 Results\n",
      "\n",
      "This press release contains forward-looking statements regarding Meta's future business plans and expectations. These statements are predictions and may differ from actual results due to various factors including macroeconomic conditions, user engagement levels, advertising revenue, technological dependencies, regulatory concerns, competition, and other risks detailed in the \"Risk Factors\" section of Meta's Annual Report on Form 10-K filed with the SEC on February 2, 2024.\n",
      "\n",
      "Non-GAAP Financial Measures\n",
      "\n",
      "Meta uses non-GAAP financial measures such as revenue excluding foreign exchange effect, advertising revenue excluding foreign exchange effect, and free cash flow to supplement its GAAP financial statements. These measures provide additional information about the financial performance of the company and allow for better comparison between periods. For more details and reconciliation of GAAP to non-GAAP measures, refer to the \"Reconciliation of GAAP to Non-GAAP Results\" table in this press release.\n",
      "\n",
      "Limitations of Key Metrics and Other Data\n",
      "\n",
      "For limitations in the measurement of certain community metrics, please refer to the section titled \"Limitations of Key Metrics and Other Data\" in Meta's most recent quarterly or annual report filed with the SEC.\n",
      "\n",
      "Date of this press release: April 24, 2024\n",
      "\n",
      "Meta First Quarter 2024 Results\n",
      "\n",
      "Meta Reports First Quarter 2024 Results\n",
      "\n",
      "MENLO PARK, Calif. – April 24, 2024 – Meta Platforms, Inc. (Nasdaq: META) today reported financial results for the quarter ended March 31, 2024.\n",
      "\n",
      "\"It's been a good start to the year,\" said Mark Zuckerberg, Meta founder and CEO. \"The new version of Meta AI with Llama 3 is another step towards building the world's leading AI. We're seeing healthy growth across our apps and we continue making steady progress building the metaverse as well.\"\n",
      "\n",
      "First Quarter 2024 Financial Highlights\n",
      "\n",
      "Three Months Ended March 31, 2024 Three Months Ended March 31, 2023 % Change Revenue $36,455 million $28,645 million 27% Costs and expenses $22,637 million $21,418 million 6% Income from operations $13,818 million $7,227 million 91% Operating margin 38% 25% Provision for income taxes $1,814 million $1,598 million 14% Effective tax rate 13% 22% Net income $12,369 million $5,709 million 117% Diluted earnings per share (EPS) $4.71 $2.20 114%\n",
      "\n",
      "First Quarter 2024 Operational and Other Financial Highlights\n",
      "\n",
      "Family daily active people (DAP) – DAP was 3.24 billion on average for March 2024, an increase of 7% year-over-year.\n",
      "\n",
      "Ad impressions – Ad impressions delivered across our Family of Apps increased by 20% year-over-year.\n",
      "\n",
      "Average price per ad – Average price per ad increased by 6% year-over-year.\n",
      "\n",
      "Revenue – Total revenue and revenue on a constant currency basis were $36.46 billion and $36.35 billion, respectively, both of which increased by 27% year-over-year.\n",
      "\n",
      "Costs and expenses – Total costs and expenses were $22.64 billion, an increase of 6% year-over-year.\n",
      "\n",
      "Capital expenditures – Capital expenditures, including principal payments on finance leases, were $6.72 billion.\n",
      "\n",
      "Capital return program – Share repurchases were $14.64 billion of our Class A common stock and dividends payments were $1.27 billion.\n",
      "\n",
      "Meta First Quarter 2024 Results\n",
      "\n",
      "Meta Reports First Quarter 2024 Results\n",
      "\n",
      "MENLO PARK, Calif. – April 24, 2024 – Meta Platforms, Inc. (Nasdaq: META) today reported financial results for the quarter ended March 31, 2024.\n",
      "\n",
      "\"It's been a good start to the year,\" said Mark Zuckerberg, Meta founder and CEO. \"The new version of Meta AI with Llama 3 is another step towards building the world's leading AI. We're seeing healthy growth across our apps and we continue making steady progress building the metaverse as well.\"\n",
      "\n",
      "First Quarter 2024 Financial Highlights\n",
      "\n",
      "Three Months Ended March 31, 2024 Three Months Ended March 31, 2023 % Change Revenue $36,455 million $28,645 million 27% Costs and expenses $22,637 million $21,418 million 6% Income from operations $13,818 million $7,227 million 91% Operating margin 38% 25% Provision for income taxes $1,814 million $1,598 million 14% Effective tax rate 13% 22% Net income $12,369 million $5,709 million 117% Diluted earnings per share (EPS) $4.71 $2.20 114%\n",
      "\n",
      "First Quarter 2024 Operational and Other Financial Highlights\n",
      "\n",
      "Family daily active people (DAP) – DAP was 3.24 billion on average for March 2024, an increase of 7% year-over-year.\n",
      "\n",
      "Ad impressions – Ad impressions delivered across our Family of Apps increased by 20% year-over-year.\n",
      "\n",
      "Average price per ad – Average price per ad increased by 6% year-over-year.\n",
      "\n",
      "Revenue – Total revenue and revenue on a constant currency basis were $36.46 billion and $36.35 billion, respectively, both of which increased by 27% year-over-year.\n",
      "\n",
      "Costs and expenses – Total costs and expenses were $22.64 billion, an increase of 6% year-over-year.\n",
      "\n",
      "Capital expenditures – Capital expenditures, including principal payments on finance leases, were $6.72 billion.\n",
      "\n",
      "Capital return program – Share repurchases were $14.64 billion of our Class A common stock and dividends payments were $1.27 billion.\n",
      "Question: What is the most significant innovation from Meta?\n",
      "\n",
      "Answer the question and provide additional helpful information,\n",
      "based on the pieces of information, if applicable. Be succinct.\n",
      "\n",
      "Responses should be properly formatted to be easily read.\n",
      "\u001b[0m\n"
     ]
    },
    {
     "name": "stderr",
     "output_type": "stream",
     "text": [
      "INFO:httpx:HTTP Request: POST https://api.groq.com/openai/v1/chat/completions \"HTTP/1.1 200 OK\"\n"
     ]
    },
    {
     "name": "stdout",
     "output_type": "stream",
     "text": [
      "\n",
      "\u001b[1m> Finished chain.\u001b[0m\n",
      "\n",
      "\u001b[1m> Finished chain.\u001b[0m\n",
      "CPU times: user 3.93 s, sys: 428 ms, total: 4.36 s\n",
      "Wall time: 2.61 s\n"
     ]
    }
   ],
   "source": [
    "\n",
    "%%time\n",
    "response = qa.invoke(\"What is the most significant innovation from Meta?\")"
   ]
  },
  {
   "cell_type": "code",
   "execution_count": 28,
   "metadata": {},
   "outputs": [
    {
     "name": "stdout",
     "output_type": "stream",
     "text": [
      "Based on the provided information, the most significant innovation from Meta is the new version of\n",
      "Meta AI with Llama 3, which is mentioned in the quote from Mark Zuckerberg, Meta founder and CEO.\n",
      "This innovation is considered a step towards building the world's leading AI.\n",
      "\n",
      "Additionally, it's worth noting that Meta is also working on building the metaverse, which is\n",
      "mentioned in the same quote. However, the exact details of this innovation are not provided in the\n",
      "given information.\n"
     ]
    }
   ],
   "source": [
    "print_response(response)"
   ]
  },
  {
   "cell_type": "code",
   "execution_count": 29,
   "metadata": {},
   "outputs": [
    {
     "data": {
      "text/markdown": [
       "Based on the provided information, the most significant innovation from Meta is the new version of Meta AI with Llama 3, which is mentioned in the quote from Mark Zuckerberg, Meta founder and CEO. This innovation is considered a step towards building the world's leading AI.\n",
       "\n",
       "Additionally, it's worth noting that Meta is also working on building the metaverse, which is mentioned in the same quote. However, the exact details of this innovation are not provided in the given information."
      ],
      "text/plain": [
       "<IPython.core.display.Markdown object>"
      ]
     },
     "execution_count": 29,
     "metadata": {},
     "output_type": "execute_result"
    }
   ],
   "source": [
    "Markdown(response[\"result\"])"
   ]
  },
  {
   "cell_type": "code",
   "execution_count": 30,
   "metadata": {},
   "outputs": [
    {
     "name": "stdout",
     "output_type": "stream",
     "text": [
      "\n",
      "\n",
      "\u001b[1m> Entering new StuffDocumentsChain chain...\u001b[0m\n",
      "\n",
      "\n",
      "\u001b[1m> Entering new LLMChain chain...\u001b[0m\n",
      "Prompt after formatting:\n",
      "\u001b[32;1m\u001b[1;3m\n",
      "Use the following pieces of information to answer the user's question.\n",
      "If you don't know the answer, just say that you don't know, don't try to make up an answer.\n",
      "\n",
      "Context: Meta First Quarter 2024 Results\n",
      "\n",
      "Reconciliation of GAAP to Non-GAAP Results\n",
      "\n",
      "(In millions, except percentages) (Unaudited) Three Months Ended March 31, 2024 2023\n",
      "| |2024|2023|\n",
      "|---|---|---|\n",
      "|GAAP revenue|$36,455|$28,645|\n",
      "|Foreign exchange effect on 2024 revenue using 2023 rates|($106)| |\n",
      "|Revenue excluding foreign exchange effect|$36,349| |\n",
      "|GAAP revenue year-over-year change %|27%| |\n",
      "|Revenue excluding foreign exchange effect year-over-year change %|27%| |\n",
      "|GAAP advertising revenue|$35,635|$28,101|\n",
      "|Foreign exchange effect on 2024 advertising revenue using 2023 rates|($105)| |\n",
      "|Advertising revenue excluding foreign exchange effect|$35,530| |\n",
      "|GAAP advertising revenue year-over-year change %|27%| |\n",
      "|Advertising revenue excluding foreign exchange effect year-over-year change %|26%| |\n",
      "\n",
      "Net cash provided by operating activities\n",
      "| |2024|2023|\n",
      "|---|---|---|\n",
      "|Purchases of property and equipment, net|($6,400)|($6,823)|\n",
      "|Principal payments on finance leases|($315)|($264)|\n",
      "|Free cash flow|$12,531|$6,911|#\n",
      "\n",
      "Meta First Quarter 2024 Results\n",
      "\n",
      "Meta Reports First Quarter 2024 Results\n",
      "\n",
      "MENLO PARK, Calif. – April 24, 2024 – Meta Platforms, Inc. (Nasdaq: META) today reported financial results for the quarter ended March 31, 2024.\n",
      "\n",
      "\"It's been a good start to the year,\" said Mark Zuckerberg, Meta founder and CEO. \"The new version of Meta AI with Llama 3 is another step towards building the world's leading AI. We're seeing healthy growth across our apps and we continue making steady progress building the metaverse as well.\"\n",
      "\n",
      "First Quarter 2024 Financial Highlights\n",
      "\n",
      "Three Months Ended March 31, 2024 Three Months Ended March 31, 2023 % Change Revenue $36,455 million $28,645 million 27% Costs and expenses $22,637 million $21,418 million 6% Income from operations $13,818 million $7,227 million 91% Operating margin 38% 25% Provision for income taxes $1,814 million $1,598 million 14% Effective tax rate 13% 22% Net income $12,369 million $5,709 million 117% Diluted earnings per share (EPS) $4.71 $2.20 114%\n",
      "\n",
      "Meta First Quarter 2024 Results\n",
      "\n",
      "Reconciliation of GAAP to Non-GAAP Results\n",
      "\n",
      "(In millions, except percentages) (Unaudited) Three Months Ended March 31, 2024 2023\n",
      "| |2024|2023|\n",
      "|---|---|---|\n",
      "|GAAP revenue|$36,455|$28,645|\n",
      "|Foreign exchange effect on 2024 revenue using 2023 rates|($106)| |\n",
      "|Revenue excluding foreign exchange effect|$36,349| |\n",
      "|GAAP revenue year-over-year change %|27%| |\n",
      "|Revenue excluding foreign exchange effect year-over-year change %|27%| |\n",
      "|GAAP advertising revenue|$35,635|$28,101|\n",
      "|Foreign exchange effect on 2024 advertising revenue using 2023 rates|($105)| |\n",
      "|Advertising revenue excluding foreign exchange effect|$35,530| |\n",
      "|GAAP advertising revenue year-over-year change %|27%| |\n",
      "|Advertising revenue excluding foreign exchange effect year-over-year change %|26%| |\n",
      "\n",
      "Net cash provided by operating activities\n",
      "| |2024|2023|\n",
      "|---|---|---|\n",
      "|Purchases of property and equipment, net|($6,400)|($6,823)|\n",
      "|Principal payments on finance leases|($315)|($264)|\n",
      "|Free cash flow|$12,531|$6,911|\n",
      "\n",
      "Segment Information (In millions) (Unaudited)\n",
      "| |Three Months Ended March 31, 2024|Three Months Ended March 31, 2023|\n",
      "|---|---|---|\n",
      "|Revenue:| | |\n",
      "|Advertising|$35,635|$28,101|\n",
      "|Other revenue|$380|$205|\n",
      "|Family of Apps|$36,015|$28,306|\n",
      "|Reality Labs|$440|$339|\n",
      "|Total revenue|$36,455|$28,645|\n",
      "|Income (loss) from operations:| | |\n",
      "|Family of Apps|$17,664|$11,219|\n",
      "|Reality Labs|($3,846)|($3,992)|\n",
      "|Total income from operations|$13,818|$7,227|\n",
      "\n",
      "Meta First Quarter 2024 Results\n",
      "\n",
      "Reconciliation of GAAP to Non-GAAP Results\n",
      "\n",
      "(In millions, except percentages) (Unaudited) Three Months Ended March 31, 2024 2023\n",
      "| |2024|2023|\n",
      "|---|---|---|\n",
      "|GAAP revenue|$36,455|$28,645|\n",
      "|Foreign exchange effect on 2024 revenue using 2023 rates|($106)| |\n",
      "|Revenue excluding foreign exchange effect|$36,349| |\n",
      "|GAAP revenue year-over-year change %|27%| |\n",
      "|Revenue excluding foreign exchange effect year-over-year change %|27%| |\n",
      "|GAAP advertising revenue|$35,635|$28,101|\n",
      "|Foreign exchange effect on 2024 advertising revenue using 2023 rates|($105)| |\n",
      "|Advertising revenue excluding foreign exchange effect|$35,530| |\n",
      "|GAAP advertising revenue year-over-year change %|27%| |\n",
      "|Advertising revenue excluding foreign exchange effect year-over-year change %|26%| |\n",
      "\n",
      "Net cash provided by operating activities\n",
      "| |2024|2023|\n",
      "|---|---|---|\n",
      "|Purchases of property and equipment, net|($6,400)|($6,823)|\n",
      "|Principal payments on finance leases|($315)|($264)|\n",
      "|Free cash flow|$12,531|$6,911|\n",
      "Question: What is the revenue for 2023?\n",
      "\n",
      "Answer the question and provide additional helpful information,\n",
      "based on the pieces of information, if applicable. Be succinct.\n",
      "\n",
      "Responses should be properly formatted to be easily read.\n",
      "\u001b[0m\n"
     ]
    },
    {
     "name": "stderr",
     "output_type": "stream",
     "text": [
      "INFO:httpx:HTTP Request: POST https://api.groq.com/openai/v1/chat/completions \"HTTP/1.1 200 OK\"\n"
     ]
    },
    {
     "name": "stdout",
     "output_type": "stream",
     "text": [
      "\n",
      "\u001b[1m> Finished chain.\u001b[0m\n",
      "\n",
      "\u001b[1m> Finished chain.\u001b[0m\n",
      "CPU times: user 5.84 s, sys: 399 ms, total: 6.24 s\n",
      "Wall time: 3.49 s\n"
     ]
    }
   ],
   "source": [
    "%%time\n",
    "response = qa.invoke(\"What is the revenue for 2023?\")"
   ]
  },
  {
   "cell_type": "code",
   "execution_count": 31,
   "metadata": {},
   "outputs": [
    {
     "name": "stdout",
     "output_type": "stream",
     "text": [
      "**Answer:** The revenue for 2023 is $28,645 million.\n",
      "\n",
      "**Additional helpful information:**\n",
      "\n",
      "* The revenue for 2024 is $36,455 million, which represents a 27% year-over-year increase.\n",
      "* The majority of the revenue comes from advertising, with $35,635 million in 2024 and $28,101\n",
      "million in 2023.\n",
      "* The \"Family of Apps\" segment, which includes Facebook, Instagram, and WhatsApp, generated $36,015\n",
      "million in revenue in 2024, while the \"Reality Labs\" segment generated $440 million in revenue in\n",
      "2024.\n"
     ]
    }
   ],
   "source": [
    "print_response(response)"
   ]
  },
  {
   "cell_type": "code",
   "execution_count": 32,
   "metadata": {},
   "outputs": [
    {
     "name": "stdout",
     "output_type": "stream",
     "text": [
      "\n",
      "\n",
      "\u001b[1m> Entering new StuffDocumentsChain chain...\u001b[0m\n",
      "\n",
      "\n",
      "\u001b[1m> Entering new LLMChain chain...\u001b[0m\n",
      "Prompt after formatting:\n",
      "\u001b[32;1m\u001b[1;3m\n",
      "Use the following pieces of information to answer the user's question.\n",
      "If you don't know the answer, just say that you don't know, don't try to make up an answer.\n",
      "\n",
      "Context: First Quarter 2024 Operational and Other Financial Highlights\n",
      "\n",
      "Family daily active people (DAP) – DAP was 3.24 billion on average for March 2024, an increase of 7% year-over-year.\n",
      "\n",
      "Ad impressions – Ad impressions delivered across our Family of Apps increased by 20% year-over-year.\n",
      "\n",
      "Average price per ad – Average price per ad increased by 6% year-over-year.\n",
      "\n",
      "Revenue – Total revenue and revenue on a constant currency basis were $36.46 billion and $36.35 billion, respectively, both of which increased by 27% year-over-year.\n",
      "\n",
      "Costs and expenses – Total costs and expenses were $22.64 billion, an increase of 6% year-over-year.\n",
      "\n",
      "Capital expenditures – Capital expenditures, including principal payments on finance leases, were $6.72 billion.\n",
      "\n",
      "Capital return program – Share repurchases were $14.64 billion of our Class A common stock and dividends payments were $1.27 billion.\n",
      "\n",
      "Cash, cash equivalents, and marketable securities – Cash, cash equivalents, and marketable securities were $58.12 billion as of March 31, 2024. Free cash flow was $12.53 billion.\n",
      "\n",
      "Headcount – Headcount was 69,329 as of March 31, 2024, a decrease of 10% year-over-year.\n",
      "\n",
      "Meta First Quarter 2024 Results\n",
      "\n",
      "CFO Outlook Commentary\n",
      "\n",
      "We expect second quarter 2024 total revenue to be in the range of $36.5-39 billion. Our guidance assumes foreign currency is a 1% headwind to year-over-year total revenue growth, based on current exchange rates.\n",
      "\n",
      "We expect full-year 2024 total expenses to be in the range of $96-99 billion, updated from our prior outlook of $94-99 billion due to higher infrastructure and legal costs. For Reality Labs, we continue to expect operating losses to increase meaningfully year-over-year due to our ongoing product development efforts and our investments to further scale our ecosystem.\n",
      "\n",
      "Cash, cash equivalents, and marketable securities – Cash, cash equivalents, and marketable securities were $58.12 billion as of March 31, 2024. Free cash flow was $12.53 billion.\n",
      "\n",
      "Headcount – Headcount was 69,329 as of March 31, 2024, a decrease of 10% year-over-year.\n",
      "\n",
      "Meta First Quarter 2024 Results\n",
      "\n",
      "CFO Outlook Commentary\n",
      "\n",
      "We expect second quarter 2024 total revenue to be in the range of $36.5-39 billion. Our guidance assumes foreign currency is a 1% headwind to year-over-year total revenue growth, based on current exchange rates.\n",
      "\n",
      "We expect full-year 2024 total expenses to be in the range of $96-99 billion, updated from our prior outlook of $94-99 billion due to higher infrastructure and legal costs. For Reality Labs, we continue to expect operating losses to increase meaningfully year-over-year due to our ongoing product development efforts and our investments to further scale our ecosystem.\n",
      "\n",
      "We anticipate our full-year 2024 capital expenditures will be in the range of $35-40 billion, increased from our prior range of $30-37 billion as we continue to accelerate our infrastructure investments to support our artificial intelligence (AI) roadmap. While we are not providing guidance for years beyond 2024, we expect capital expenditures will continue to increase next year as we invest aggressively to support our ambitious AI research and product development efforts.\n",
      "\n",
      "Absent any changes to our tax landscape, we expect our full-year 2024 tax rate to be in the mid-teens.\n",
      "\n",
      "In addition, we continue to monitor an active regulatory landscape, including the increasing legal and regulatory headwinds in the EU and the U.S. that could significantly impact our business and our financial results.\n",
      "\n",
      "Q1 was a good start to the year. We're seeing strong momentum within our Family of Apps and are making important progress on our longer-term AI and Reality Labs initiatives that have the potential to transform the way people interact with our services over the coming years.\n",
      "\n",
      "Meta First Quarter 2024 Results\n",
      "\n",
      "Cash, cash equivalents, and marketable securities – Cash, cash equivalents, and marketable securities were $58.12 billion as of March 31, 2024. Free cash flow was $12.53 billion.\n",
      "\n",
      "Headcount – Headcount was 69,329 as of March 31, 2024, a decrease of 10% year-over-year.\n",
      "\n",
      "Meta First Quarter 2024 Results\n",
      "\n",
      "CFO Outlook Commentary\n",
      "\n",
      "We expect second quarter 2024 total revenue to be in the range of $36.5-39 billion. Our guidance assumes foreign currency is a 1% headwind to year-over-year total revenue growth, based on current exchange rates.\n",
      "\n",
      "We expect full-year 2024 total expenses to be in the range of $96-99 billion, updated from our prior outlook of $94-99 billion due to higher infrastructure and legal costs. For Reality Labs, we continue to expect operating losses to increase meaningfully year-over-year due to our ongoing product development efforts and our investments to further scale our ecosystem.\n",
      "\n",
      "We anticipate our full-year 2024 capital expenditures will be in the range of $35-40 billion, increased from our prior range of $30-37 billion as we continue to accelerate our infrastructure investments to support our artificial intelligence (AI) roadmap. While we are not providing guidance for years beyond 2024, we expect capital expenditures will continue to increase next year as we invest aggressively to support our ambitious AI research and product development efforts.\n",
      "\n",
      "Absent any changes to our tax landscape, we expect our full-year 2024 tax rate to be in the mid-teens.\n",
      "\n",
      "In addition, we continue to monitor an active regulatory landscape, including the increasing legal and regulatory headwinds in the EU and the U.S. that could significantly impact our business and our financial results.\n",
      "\n",
      "Q1 was a good start to the year. We're seeing strong momentum within our Family of Apps and are making important progress on our longer-term AI and Reality Labs initiatives that have the potential to transform the way people interact with our services over the coming years.\n",
      "\n",
      "Meta First Quarter 2024 Results\n",
      "Question: How much is the revenue minus the costs and expenses for 2024? Calculate the answer\n",
      "\n",
      "Answer the question and provide additional helpful information,\n",
      "based on the pieces of information, if applicable. Be succinct.\n",
      "\n",
      "Responses should be properly formatted to be easily read.\n",
      "\u001b[0m\n"
     ]
    },
    {
     "name": "stderr",
     "output_type": "stream",
     "text": [
      "INFO:httpx:HTTP Request: POST https://api.groq.com/openai/v1/chat/completions \"HTTP/1.1 200 OK\"\n"
     ]
    },
    {
     "name": "stdout",
     "output_type": "stream",
     "text": [
      "\n",
      "\u001b[1m> Finished chain.\u001b[0m\n",
      "\n",
      "\u001b[1m> Finished chain.\u001b[0m\n",
      "CPU times: user 6.15 s, sys: 325 ms, total: 6.48 s\n",
      "Wall time: 5.29 s\n"
     ]
    }
   ],
   "source": [
    "%%time\n",
    "response = qa.invoke(\n",
    "    \"How much is the revenue minus the costs and expenses for 2024? Calculate the answer\"\n",
    ")"
   ]
  },
  {
   "cell_type": "code",
   "execution_count": 33,
   "metadata": {},
   "outputs": [
    {
     "name": "stdout",
     "output_type": "stream",
     "text": [
      "**Revenue minus Costs and Expenses for 2024:**\n",
      "\n",
      "Based on the provided information, we can calculate the revenue minus costs and expenses for 2024 as\n",
      "follows:\n",
      "\n",
      "**Revenue:** Not explicitly stated for 2024, but we have a range for Q2 2024 ($36.5-39 billion) and\n",
      "a growth rate of 27% year-over-year for Q1 2024. Let's assume an average revenue for 2024, which is\n",
      "not possible to calculate exactly with the given information.\n",
      "\n",
      "**Costs and Expenses:** Expected to be in the range of $96-99 billion for 2024.\n",
      "\n",
      "Since we don't have an exact revenue figure for 2024, we cannot calculate the exact difference\n",
      "between revenue and costs and expenses. However, we can say that the costs and expenses are expected\n",
      "to be significantly higher than the revenue, indicating a potential loss for 2024.\n",
      "\n",
      "**Additional Information:**\n",
      "\n",
      "* The company has a strong cash position, with $58.12 billion in cash, cash equivalents, and\n",
      "marketable securities as of March 31, 2024.\n",
      "* The company is investing heavily in infrastructure and artificial intelligence (AI) research, with\n",
      "expected capital expenditures of $35-40 billion in 2024.\n",
      "* The company is also expecting operating losses to increase meaningfully year-over-year in Reality\n",
      "Labs due to ongoing product development efforts and investments to further scale the ecosystem.\n"
     ]
    }
   ],
   "source": [
    "print_response(response)"
   ]
  },
  {
   "cell_type": "code",
   "execution_count": 34,
   "metadata": {},
   "outputs": [
    {
     "name": "stdout",
     "output_type": "stream",
     "text": [
      "\n",
      "\n",
      "\u001b[1m> Entering new StuffDocumentsChain chain...\u001b[0m\n",
      "\n",
      "\n",
      "\u001b[1m> Entering new LLMChain chain...\u001b[0m\n",
      "Prompt after formatting:\n",
      "\u001b[32;1m\u001b[1;3m\n",
      "Use the following pieces of information to answer the user's question.\n",
      "If you don't know the answer, just say that you don't know, don't try to make up an answer.\n",
      "\n",
      "Context: Meta First Quarter 2024 Results\n",
      "\n",
      "Reconciliation of GAAP to Non-GAAP Results\n",
      "\n",
      "(In millions, except percentages) (Unaudited) Three Months Ended March 31, 2024 2023\n",
      "| |2024|2023|\n",
      "|---|---|---|\n",
      "|GAAP revenue|$36,455|$28,645|\n",
      "|Foreign exchange effect on 2024 revenue using 2023 rates|($106)| |\n",
      "|Revenue excluding foreign exchange effect|$36,349| |\n",
      "|GAAP revenue year-over-year change %|27%| |\n",
      "|Revenue excluding foreign exchange effect year-over-year change %|27%| |\n",
      "|GAAP advertising revenue|$35,635|$28,101|\n",
      "|Foreign exchange effect on 2024 advertising revenue using 2023 rates|($105)| |\n",
      "|Advertising revenue excluding foreign exchange effect|$35,530| |\n",
      "|GAAP advertising revenue year-over-year change %|27%| |\n",
      "|Advertising revenue excluding foreign exchange effect year-over-year change %|26%| |\n",
      "\n",
      "Net cash provided by operating activities\n",
      "| |2024|2023|\n",
      "|---|---|---|\n",
      "|Purchases of property and equipment, net|($6,400)|($6,823)|\n",
      "|Principal payments on finance leases|($315)|($264)|\n",
      "|Free cash flow|$12,531|$6,911|#\n",
      "\n",
      "Meta First Quarter 2024 Results\n",
      "\n",
      "Meta Reports First Quarter 2024 Results\n",
      "\n",
      "MENLO PARK, Calif. – April 24, 2024 – Meta Platforms, Inc. (Nasdaq: META) today reported financial results for the quarter ended March 31, 2024.\n",
      "\n",
      "\"It's been a good start to the year,\" said Mark Zuckerberg, Meta founder and CEO. \"The new version of Meta AI with Llama 3 is another step towards building the world's leading AI. We're seeing healthy growth across our apps and we continue making steady progress building the metaverse as well.\"\n",
      "\n",
      "First Quarter 2024 Financial Highlights\n",
      "\n",
      "Three Months Ended March 31, 2024 Three Months Ended March 31, 2023 % Change Revenue $36,455 million $28,645 million 27% Costs and expenses $22,637 million $21,418 million 6% Income from operations $13,818 million $7,227 million 91% Operating margin 38% 25% Provision for income taxes $1,814 million $1,598 million 14% Effective tax rate 13% 22% Net income $12,369 million $5,709 million 117% Diluted earnings per share (EPS) $4.71 $2.20 114%\n",
      "\n",
      "Cash, cash equivalents, and marketable securities – Cash, cash equivalents, and marketable securities were $58.12 billion as of March 31, 2024. Free cash flow was $12.53 billion.\n",
      "\n",
      "Headcount – Headcount was 69,329 as of March 31, 2024, a decrease of 10% year-over-year.\n",
      "\n",
      "Meta First Quarter 2024 Results\n",
      "\n",
      "CFO Outlook Commentary\n",
      "\n",
      "We expect second quarter 2024 total revenue to be in the range of $36.5-39 billion. Our guidance assumes foreign currency is a 1% headwind to year-over-year total revenue growth, based on current exchange rates.\n",
      "\n",
      "We expect full-year 2024 total expenses to be in the range of $96-99 billion, updated from our prior outlook of $94-99 billion due to higher infrastructure and legal costs. For Reality Labs, we continue to expect operating losses to increase meaningfully year-over-year due to our ongoing product development efforts and our investments to further scale our ecosystem.\n",
      "\n",
      "We anticipate our full-year 2024 capital expenditures will be in the range of $35-40 billion, increased from our prior range of $30-37 billion as we continue to accelerate our infrastructure investments to support our artificial intelligence (AI) roadmap. While we are not providing guidance for years beyond 2024, we expect capital expenditures will continue to increase next year as we invest aggressively to support our ambitious AI research and product development efforts.\n",
      "\n",
      "Absent any changes to our tax landscape, we expect our full-year 2024 tax rate to be in the mid-teens.\n",
      "\n",
      "In addition, we continue to monitor an active regulatory landscape, including the increasing legal and regulatory headwinds in the EU and the U.S. that could significantly impact our business and our financial results.\n",
      "\n",
      "Q1 was a good start to the year. We're seeing strong momentum within our Family of Apps and are making important progress on our longer-term AI and Reality Labs initiatives that have the potential to transform the way people interact with our services over the coming years.\n",
      "\n",
      "Meta First Quarter 2024 Results\n",
      "\n",
      "Cash, cash equivalents, and marketable securities – Cash, cash equivalents, and marketable securities were $58.12 billion as of March 31, 2024. Free cash flow was $12.53 billion.\n",
      "\n",
      "Headcount – Headcount was 69,329 as of March 31, 2024, a decrease of 10% year-over-year.\n",
      "\n",
      "Meta First Quarter 2024 Results\n",
      "\n",
      "CFO Outlook Commentary\n",
      "\n",
      "We expect second quarter 2024 total revenue to be in the range of $36.5-39 billion. Our guidance assumes foreign currency is a 1% headwind to year-over-year total revenue growth, based on current exchange rates.\n",
      "\n",
      "We expect full-year 2024 total expenses to be in the range of $96-99 billion, updated from our prior outlook of $94-99 billion due to higher infrastructure and legal costs. For Reality Labs, we continue to expect operating losses to increase meaningfully year-over-year due to our ongoing product development efforts and our investments to further scale our ecosystem.\n",
      "\n",
      "We anticipate our full-year 2024 capital expenditures will be in the range of $35-40 billion, increased from our prior range of $30-37 billion as we continue to accelerate our infrastructure investments to support our artificial intelligence (AI) roadmap. While we are not providing guidance for years beyond 2024, we expect capital expenditures will continue to increase next year as we invest aggressively to support our ambitious AI research and product development efforts.\n",
      "\n",
      "Absent any changes to our tax landscape, we expect our full-year 2024 tax rate to be in the mid-teens.\n",
      "\n",
      "In addition, we continue to monitor an active regulatory landscape, including the increasing legal and regulatory headwinds in the EU and the U.S. that could significantly impact our business and our financial results.\n",
      "\n",
      "Q1 was a good start to the year. We're seeing strong momentum within our Family of Apps and are making important progress on our longer-term AI and Reality Labs initiatives that have the potential to transform the way people interact with our services over the coming years.\n",
      "\n",
      "Meta First Quarter 2024 Results\n",
      "Question: How much is the revenue minus the costs and expenses for 2023? Calculate the answer\n",
      "\n",
      "Answer the question and provide additional helpful information,\n",
      "based on the pieces of information, if applicable. Be succinct.\n",
      "\n",
      "Responses should be properly formatted to be easily read.\n",
      "\u001b[0m\n"
     ]
    },
    {
     "name": "stderr",
     "output_type": "stream",
     "text": [
      "INFO:httpx:HTTP Request: POST https://api.groq.com/openai/v1/chat/completions \"HTTP/1.1 200 OK\"\n"
     ]
    },
    {
     "name": "stdout",
     "output_type": "stream",
     "text": [
      "\n",
      "\u001b[1m> Finished chain.\u001b[0m\n",
      "\n",
      "\u001b[1m> Finished chain.\u001b[0m\n",
      "CPU times: user 4.02 s, sys: 302 ms, total: 4.32 s\n",
      "Wall time: 3.47 s\n"
     ]
    }
   ],
   "source": [
    "%%time\n",
    "response = qa.invoke(\n",
    "    \"How much is the revenue minus the costs and expenses for 2023? Calculate the answer\"\n",
    ")"
   ]
  },
  {
   "cell_type": "code",
   "execution_count": 35,
   "metadata": {},
   "outputs": [
    {
     "name": "stdout",
     "output_type": "stream",
     "text": [
      "To calculate the revenue minus the costs and expenses for 2023, we can use the following\n",
      "information:\n",
      "\n",
      "Revenue: $28,645 million (from the \"First Quarter 2024 Financial Highlights\" section)\n",
      "Costs and expenses: $21,418 million (from the \"First Quarter 2024 Financial Highlights\" section)\n",
      "\n",
      "Revenue minus costs and expenses for 2023:\n",
      "$28,645 million - $21,418 million = $7,227 million\n",
      "\n",
      "This is also the income from operations for 2023, as shown in the \"First Quarter 2024 Financial\n",
      "Highlights\" section.\n"
     ]
    }
   ],
   "source": [
    "\n",
    "print_response(response)"
   ]
  },
  {
   "cell_type": "code",
   "execution_count": 36,
   "metadata": {},
   "outputs": [
    {
     "name": "stdout",
     "output_type": "stream",
     "text": [
      "\n",
      "\n",
      "\u001b[1m> Entering new StuffDocumentsChain chain...\u001b[0m\n",
      "\n",
      "\n",
      "\u001b[1m> Entering new LLMChain chain...\u001b[0m\n",
      "Prompt after formatting:\n",
      "\u001b[32;1m\u001b[1;3m\n",
      "Use the following pieces of information to answer the user's question.\n",
      "If you don't know the answer, just say that you don't know, don't try to make up an answer.\n",
      "\n",
      "Context: Cash, cash equivalents, and marketable securities – Cash, cash equivalents, and marketable securities were $58.12 billion as of March 31, 2024. Free cash flow was $12.53 billion.\n",
      "\n",
      "Headcount – Headcount was 69,329 as of March 31, 2024, a decrease of 10% year-over-year.\n",
      "\n",
      "Meta First Quarter 2024 Results\n",
      "\n",
      "CFO Outlook Commentary\n",
      "\n",
      "We expect second quarter 2024 total revenue to be in the range of $36.5-39 billion. Our guidance assumes foreign currency is a 1% headwind to year-over-year total revenue growth, based on current exchange rates.\n",
      "\n",
      "We expect full-year 2024 total expenses to be in the range of $96-99 billion, updated from our prior outlook of $94-99 billion due to higher infrastructure and legal costs. For Reality Labs, we continue to expect operating losses to increase meaningfully year-over-year due to our ongoing product development efforts and our investments to further scale our ecosystem.\n",
      "\n",
      "We anticipate our full-year 2024 capital expenditures will be in the range of $35-40 billion, increased from our prior range of $30-37 billion as we continue to accelerate our infrastructure investments to support our artificial intelligence (AI) roadmap. While we are not providing guidance for years beyond 2024, we expect capital expenditures will continue to increase next year as we invest aggressively to support our ambitious AI research and product development efforts.\n",
      "\n",
      "Absent any changes to our tax landscape, we expect our full-year 2024 tax rate to be in the mid-teens.\n",
      "\n",
      "In addition, we continue to monitor an active regulatory landscape, including the increasing legal and regulatory headwinds in the EU and the U.S. that could significantly impact our business and our financial results.\n",
      "\n",
      "Q1 was a good start to the year. We're seeing strong momentum within our Family of Apps and are making important progress on our longer-term AI and Reality Labs initiatives that have the potential to transform the way people interact with our services over the coming years.\n",
      "\n",
      "Meta First Quarter 2024 Results\n",
      "\n",
      "Cash, cash equivalents, and marketable securities – Cash, cash equivalents, and marketable securities were $58.12 billion as of March 31, 2024. Free cash flow was $12.53 billion.\n",
      "\n",
      "Headcount – Headcount was 69,329 as of March 31, 2024, a decrease of 10% year-over-year.\n",
      "\n",
      "Meta First Quarter 2024 Results\n",
      "\n",
      "CFO Outlook Commentary\n",
      "\n",
      "We expect second quarter 2024 total revenue to be in the range of $36.5-39 billion. Our guidance assumes foreign currency is a 1% headwind to year-over-year total revenue growth, based on current exchange rates.\n",
      "\n",
      "We expect full-year 2024 total expenses to be in the range of $96-99 billion, updated from our prior outlook of $94-99 billion due to higher infrastructure and legal costs. For Reality Labs, we continue to expect operating losses to increase meaningfully year-over-year due to our ongoing product development efforts and our investments to further scale our ecosystem.\n",
      "\n",
      "We anticipate our full-year 2024 capital expenditures will be in the range of $35-40 billion, increased from our prior range of $30-37 billion as we continue to accelerate our infrastructure investments to support our artificial intelligence (AI) roadmap. While we are not providing guidance for years beyond 2024, we expect capital expenditures will continue to increase next year as we invest aggressively to support our ambitious AI research and product development efforts.\n",
      "\n",
      "Absent any changes to our tax landscape, we expect our full-year 2024 tax rate to be in the mid-teens.\n",
      "\n",
      "In addition, we continue to monitor an active regulatory landscape, including the increasing legal and regulatory headwinds in the EU and the U.S. that could significantly impact our business and our financial results.\n",
      "\n",
      "Q1 was a good start to the year. We're seeing strong momentum within our Family of Apps and are making important progress on our longer-term AI and Reality Labs initiatives that have the potential to transform the way people interact with our services over the coming years.\n",
      "\n",
      "Meta First Quarter 2024 Results\n",
      "\n",
      "First Quarter 2024 Operational and Other Financial Highlights\n",
      "\n",
      "Family daily active people (DAP) – DAP was 3.24 billion on average for March 2024, an increase of 7% year-over-year.\n",
      "\n",
      "Ad impressions – Ad impressions delivered across our Family of Apps increased by 20% year-over-year.\n",
      "\n",
      "Average price per ad – Average price per ad increased by 6% year-over-year.\n",
      "\n",
      "Revenue – Total revenue and revenue on a constant currency basis were $36.46 billion and $36.35 billion, respectively, both of which increased by 27% year-over-year.\n",
      "\n",
      "Costs and expenses – Total costs and expenses were $22.64 billion, an increase of 6% year-over-year.\n",
      "\n",
      "Capital expenditures – Capital expenditures, including principal payments on finance leases, were $6.72 billion.\n",
      "\n",
      "Capital return program – Share repurchases were $14.64 billion of our Class A common stock and dividends payments were $1.27 billion.\n",
      "\n",
      "Cash, cash equivalents, and marketable securities – Cash, cash equivalents, and marketable securities were $58.12 billion as of March 31, 2024. Free cash flow was $12.53 billion.\n",
      "\n",
      "Headcount – Headcount was 69,329 as of March 31, 2024, a decrease of 10% year-over-year.\n",
      "\n",
      "Meta First Quarter 2024 Results\n",
      "\n",
      "CFO Outlook Commentary\n",
      "\n",
      "We expect second quarter 2024 total revenue to be in the range of $36.5-39 billion. Our guidance assumes foreign currency is a 1% headwind to year-over-year total revenue growth, based on current exchange rates.\n",
      "\n",
      "We expect full-year 2024 total expenses to be in the range of $96-99 billion, updated from our prior outlook of $94-99 billion due to higher infrastructure and legal costs. For Reality Labs, we continue to expect operating losses to increase meaningfully year-over-year due to our ongoing product development efforts and our investments to further scale our ecosystem.\n",
      "Question: What is the expected revenue for the second quarter of 2024?\n",
      "\n",
      "Answer the question and provide additional helpful information,\n",
      "based on the pieces of information, if applicable. Be succinct.\n",
      "\n",
      "Responses should be properly formatted to be easily read.\n",
      "\u001b[0m\n"
     ]
    },
    {
     "name": "stderr",
     "output_type": "stream",
     "text": [
      "INFO:httpx:HTTP Request: POST https://api.groq.com/openai/v1/chat/completions \"HTTP/1.1 200 OK\"\n"
     ]
    },
    {
     "name": "stdout",
     "output_type": "stream",
     "text": [
      "\n",
      "\u001b[1m> Finished chain.\u001b[0m\n",
      "\n",
      "\u001b[1m> Finished chain.\u001b[0m\n",
      "CPU times: user 5.82 s, sys: 336 ms, total: 6.15 s\n",
      "Wall time: 5.69 s\n"
     ]
    }
   ],
   "source": [
    "%%time\n",
    "response = qa.invoke(\"What is the expected revenue for the second quarter of 2024?\")"
   ]
  },
  {
   "cell_type": "code",
   "execution_count": 37,
   "metadata": {},
   "outputs": [
    {
     "data": {
      "text/markdown": [
       "**Answer:** The expected revenue for the second quarter of 2024 is in the range of $36.5-39 billion.\n",
       "\n",
       "**Additional information:** This guidance assumes a 1% headwind to year-over-year total revenue growth due to foreign currency exchange rates."
      ],
      "text/plain": [
       "<IPython.core.display.Markdown object>"
      ]
     },
     "execution_count": 37,
     "metadata": {},
     "output_type": "execute_result"
    }
   ],
   "source": [
    "Markdown(response[\"result\"])"
   ]
  },
  {
   "cell_type": "code",
   "execution_count": null,
   "metadata": {},
   "outputs": [],
   "source": []
  }
 ],
 "metadata": {
  "kernelspec": {
   "display_name": "base",
   "language": "python",
   "name": "python3"
  },
  "language_info": {
   "codemirror_mode": {
    "name": "ipython",
    "version": 3
   },
   "file_extension": ".py",
   "mimetype": "text/x-python",
   "name": "python",
   "nbconvert_exporter": "python",
   "pygments_lexer": "ipython3",
   "version": "3.11.7"
  },
  "orig_nbformat": 4
 },
 "nbformat": 4,
 "nbformat_minor": 2
}
